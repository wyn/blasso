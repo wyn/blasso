{
 "cells": [
  {
   "cell_type": "code",
   "execution_count": 2,
   "id": "060b328b",
   "metadata": {},
   "outputs": [],
   "source": [
    "import numpy as np\n",
    "import pandas as pd"
   ]
  },
  {
   "cell_type": "code",
   "execution_count": 3,
   "id": "9701c08c",
   "metadata": {},
   "outputs": [
    {
     "ename": "NameError",
     "evalue": "name 'dot' is not defined",
     "output_type": "error",
     "traceback": [
      "\u001b[0;31m---------------------------------------------------------------------------\u001b[0m",
      "\u001b[0;31mNameError\u001b[0m                                 Traceback (most recent call last)",
      "\u001b[0;32m<ipython-input-3-067fd05c304c>\u001b[0m in \u001b[0;36m<module>\u001b[0;34m\u001b[0m\n\u001b[0;32m----> 1\u001b[0;31m \u001b[0ms0\u001b[0m \u001b[0;34m=\u001b[0m \u001b[0mdot\u001b[0m\u001b[0;34m(\u001b[0m\u001b[0mx0\u001b[0m\u001b[0;34m,\u001b[0m \u001b[0my0\u001b[0m\u001b[0;34m)\u001b[0m\u001b[0;34m\u001b[0m\u001b[0;34m\u001b[0m\u001b[0m\n\u001b[0m",
      "\u001b[0;31mNameError\u001b[0m: name 'dot' is not defined"
     ]
    }
   ],
   "source": [
    "s0 = dot(x0, y0)"
   ]
  },
  {
   "cell_type": "code",
   "execution_count": 24,
   "id": "144aa944",
   "metadata": {},
   "outputs": [],
   "source": [
    "x0 = np.arange(10)"
   ]
  },
  {
   "cell_type": "code",
   "execution_count": 25,
   "id": "22b67e23",
   "metadata": {},
   "outputs": [],
   "source": [
    "y0 = x0*2"
   ]
  },
  {
   "cell_type": "code",
   "execution_count": 26,
   "id": "518b4d39",
   "metadata": {},
   "outputs": [],
   "source": [
    "s0 = y0.dot(x0)"
   ]
  },
  {
   "cell_type": "code",
   "execution_count": 27,
   "id": "7e24bc93",
   "metadata": {},
   "outputs": [
    {
     "data": {
      "text/plain": [
       "570"
      ]
     },
     "execution_count": 27,
     "metadata": {},
     "output_type": "execute_result"
    }
   ],
   "source": [
    "s0"
   ]
  },
  {
   "cell_type": "code",
   "execution_count": 28,
   "id": "b2edcb16",
   "metadata": {},
   "outputs": [],
   "source": [
    "x1 = np.array(x0)"
   ]
  },
  {
   "cell_type": "code",
   "execution_count": 29,
   "id": "56b5ccdc",
   "metadata": {},
   "outputs": [],
   "source": [
    "x1[4] = 400"
   ]
  },
  {
   "cell_type": "code",
   "execution_count": 30,
   "id": "7be1fd03",
   "metadata": {},
   "outputs": [
    {
     "data": {
      "text/plain": [
       "array([0, 1, 2, 3, 4, 5, 6, 7, 8, 9])"
      ]
     },
     "execution_count": 30,
     "metadata": {},
     "output_type": "execute_result"
    }
   ],
   "source": [
    "x0"
   ]
  },
  {
   "cell_type": "code",
   "execution_count": 31,
   "id": "0cb86388",
   "metadata": {},
   "outputs": [
    {
     "data": {
      "text/plain": [
       "array([  0,   1,   2,   3, 400,   5,   6,   7,   8,   9])"
      ]
     },
     "execution_count": 31,
     "metadata": {},
     "output_type": "execute_result"
    }
   ],
   "source": [
    "x1"
   ]
  },
  {
   "cell_type": "code",
   "execution_count": 37,
   "id": "8b0790b5",
   "metadata": {},
   "outputs": [],
   "source": [
    "s1 = s0 + y0[4]*(x1[4] - x0[4])"
   ]
  },
  {
   "cell_type": "code",
   "execution_count": 38,
   "id": "15860a14",
   "metadata": {},
   "outputs": [
    {
     "data": {
      "text/plain": [
       "3738"
      ]
     },
     "execution_count": 38,
     "metadata": {},
     "output_type": "execute_result"
    }
   ],
   "source": [
    "s1"
   ]
  },
  {
   "cell_type": "code",
   "execution_count": 39,
   "id": "1a8418be",
   "metadata": {},
   "outputs": [
    {
     "data": {
      "text/plain": [
       "3738"
      ]
     },
     "execution_count": 39,
     "metadata": {},
     "output_type": "execute_result"
    }
   ],
   "source": [
    "y0.dot(x1) "
   ]
  },
  {
   "cell_type": "code",
   "execution_count": 42,
   "id": "bafda727",
   "metadata": {},
   "outputs": [],
   "source": [
    "def inc_dot(prev, i):\n",
    "    def _(ys, xs0, xs1):\n",
    "        return prev + ys[i] * ( xs1[i] - xs0[i] )\n",
    "    return _"
   ]
  },
  {
   "cell_type": "code",
   "execution_count": 43,
   "id": "96cf3868",
   "metadata": {},
   "outputs": [
    {
     "data": {
      "text/plain": [
       "3738"
      ]
     },
     "execution_count": 43,
     "metadata": {},
     "output_type": "execute_result"
    }
   ],
   "source": [
    "inc_dot(s0, 4)(y0, x0, x1)"
   ]
  },
  {
   "cell_type": "code",
   "execution_count": null,
   "id": "0f3eff1d",
   "metadata": {},
   "outputs": [],
   "source": []
  }
 ],
 "metadata": {
  "kernelspec": {
   "display_name": "Python 3",
   "language": "python",
   "name": "python3"
  },
  "language_info": {
   "codemirror_mode": {
    "name": "ipython",
    "version": 3
   },
   "file_extension": ".py",
   "mimetype": "text/x-python",
   "name": "python",
   "nbconvert_exporter": "python",
   "pygments_lexer": "ipython3",
   "version": "3.9.5"
  }
 },
 "nbformat": 4,
 "nbformat_minor": 5
}
